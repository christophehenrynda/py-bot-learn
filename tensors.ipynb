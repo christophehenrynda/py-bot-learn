{
  "nbformat": 4,
  "nbformat_minor": 0,
  "metadata": {
    "colab": {
      "provenance": [],
      "authorship_tag": "ABX9TyOhofP/xGInN2uGZb6OSpWB",
      "include_colab_link": true
    },
    "kernelspec": {
      "name": "python3",
      "display_name": "Python 3"
    },
    "language_info": {
      "name": "python"
    }
  },
  "cells": [
    {
      "cell_type": "markdown",
      "metadata": {
        "id": "view-in-github",
        "colab_type": "text"
      },
      "source": [
        "<a href=\"https://colab.research.google.com/github/christophehenrynda/py-bot-learn/blob/main/tensors.ipynb\" target=\"_parent\"><img src=\"https://colab.research.google.com/assets/colab-badge.svg\" alt=\"Open In Colab\"/></a>"
      ]
    },
    {
      "cell_type": "code",
      "execution_count": 8,
      "metadata": {
        "id": "D_kqMWG37pvH"
      },
      "outputs": [],
      "source": [
        "import numpy as np\n",
        "import torch"
      ]
    },
    {
      "cell_type": "markdown",
      "source": [
        "LISTS"
      ],
      "metadata": {
        "id": "cVUsbUPL-2HZ"
      }
    },
    {
      "cell_type": "code",
      "source": [
        "my_lists = [[1,2,3,4,5],[1,\"a\",2]]\n",
        "my_lists\n"
      ],
      "metadata": {
        "colab": {
          "base_uri": "https://localhost:8080/"
        },
        "id": "fam67reb-1bK",
        "outputId": "349748b1-8c82-4728-f4f0-99b1fbb1dfbf"
      },
      "execution_count": 5,
      "outputs": [
        {
          "output_type": "execute_result",
          "data": {
            "text/plain": [
              "[[1, 2, 3, 4, 5], [1, 'a', 2]]"
            ]
          },
          "metadata": {},
          "execution_count": 5
        }
      ]
    },
    {
      "cell_type": "markdown",
      "source": [
        "NUMPY LISTS"
      ],
      "metadata": {
        "id": "9MxQogGX-8MU"
      }
    },
    {
      "cell_type": "code",
      "source": [
        "np1 = np.random.rand(2, 2)\n",
        "np1"
      ],
      "metadata": {
        "colab": {
          "base_uri": "https://localhost:8080/"
        },
        "id": "M5rQDLIH--RM",
        "outputId": "c672b4dd-eb97-4103-d9f1-757909ba7450"
      },
      "execution_count": 9,
      "outputs": [
        {
          "output_type": "execute_result",
          "data": {
            "text/plain": [
              "array([[0.35559919, 0.0334303 ],\n",
              "       [0.14677581, 0.70467285]])"
            ]
          },
          "metadata": {},
          "execution_count": 9
        }
      ]
    },
    {
      "cell_type": "code",
      "source": [
        "np1.dtype\n"
      ],
      "metadata": {
        "colab": {
          "base_uri": "https://localhost:8080/"
        },
        "id": "cQ76ZxZ0AV8O",
        "outputId": "8338cea9-3d21-48f7-cf95-4cc486a4dd4f"
      },
      "execution_count": 10,
      "outputs": [
        {
          "output_type": "execute_result",
          "data": {
            "text/plain": [
              "dtype('float64')"
            ]
          },
          "metadata": {},
          "execution_count": 10
        }
      ]
    },
    {
      "cell_type": "markdown",
      "source": [
        "TENSOR\n",
        "\n"
      ],
      "metadata": {
        "id": "vnvyrYieAqcO"
      }
    },
    {
      "cell_type": "markdown",
      "source": [],
      "metadata": {
        "id": "Mt7riCki-8Gr"
      }
    },
    {
      "cell_type": "code",
      "source": [
        "tens_2d = torch.rand(2,2)\n",
        "tens_2d"
      ],
      "metadata": {
        "colab": {
          "base_uri": "https://localhost:8080/"
        },
        "id": "kQlB55fXA79d",
        "outputId": "6c2db701-527f-4383-96f5-fc8bc1710913"
      },
      "execution_count": 14,
      "outputs": [
        {
          "output_type": "execute_result",
          "data": {
            "text/plain": [
              "tensor([[0.2229, 0.5990],\n",
              "        [0.9234, 0.1953]])"
            ]
          },
          "metadata": {},
          "execution_count": 14
        }
      ]
    },
    {
      "cell_type": "code",
      "source": [
        "tens_np = torch.tensor(np1)\n",
        "tens_np"
      ],
      "metadata": {
        "colab": {
          "base_uri": "https://localhost:8080/"
        },
        "id": "T7mVZHWiBl53",
        "outputId": "972e3992-ace8-49fd-b9e6-452a8062d712"
      },
      "execution_count": 15,
      "outputs": [
        {
          "output_type": "execute_result",
          "data": {
            "text/plain": [
              "tensor([[0.3556, 0.0334],\n",
              "        [0.1468, 0.7047]], dtype=torch.float64)"
            ]
          },
          "metadata": {},
          "execution_count": 15
        }
      ]
    },
    {
      "cell_type": "code",
      "source": [],
      "metadata": {
        "id": "o4uFd_VoBuLV"
      },
      "execution_count": null,
      "outputs": []
    }
  ]
}